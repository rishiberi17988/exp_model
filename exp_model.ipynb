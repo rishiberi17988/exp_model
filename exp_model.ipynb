{
 "cells": [
  {
   "cell_type": "code",
   "execution_count": 1,
   "id": "d1b58a20",
   "metadata": {},
   "outputs": [],
   "source": [
    "import numpy as np\n",
    "import tensorflow as tf\n",
    "import pandas as pd \n",
    "from matplotlib import pyplot as plt\n",
    "from tensorflow.keras.preprocessing.image import ImageDataGenerator \n",
    "from tensorflow.keras.preprocessing import image\n",
    "from tensorflow.keras.optimizers import RMSprop\n",
    "from tensorflow.keras import datasets, layers, models\n",
    "import cv2 "
   ]
  },
  {
   "cell_type": "code",
   "execution_count": 2,
   "id": "5bf7ddb8",
   "metadata": {},
   "outputs": [],
   "source": [
    "train = ImageDataGenerator(rescale= 1/255)\n",
    "validation =ImageDataGenerator (rescale= 1/255)"
   ]
  },
  {
   "cell_type": "code",
   "execution_count": 3,
   "id": "3cb12f2b",
   "metadata": {},
   "outputs": [
    {
     "name": "stdout",
     "output_type": "stream",
     "text": [
      "Found 28709 images belonging to 7 classes.\n",
      "Found 7178 images belonging to 7 classes.\n"
     ]
    }
   ],
   "source": [
    "x = train.flow_from_directory('train',\n",
    "                             target_size = (64,64),\n",
    "                             class_mode ='categorical',\n",
    "                             batch_size = 10)\n",
    "x_test = train.flow_from_directory('test',\n",
    "                             target_size = (64,64),\n",
    "                             class_mode ='categorical',\n",
    "                             batch_size = 10)"
   ]
  },
  {
   "cell_type": "code",
   "execution_count": 4,
   "id": "9fe11603",
   "metadata": {},
   "outputs": [],
   "source": [
    "y = x.classes"
   ]
  },
  {
   "cell_type": "code",
   "execution_count": 5,
   "id": "29c18bd8",
   "metadata": {},
   "outputs": [
    {
     "data": {
      "text/plain": [
       "\"model = tf.keras.models.Sequential()\\n#\\nmodel.add(layers.Conv2D(64, (3, 3), activation='relu', padding='same', input_shape=(224, 224,3)))\\nmodel.add(layers.Conv2D(64, (3, 3), activation='relu', padding='same'))\\nmodel.add(layers.MaxPooling2D((2, 2), strides=(2, 2)))\\n#\\nmodel.add(layers.Conv2D(128, (3, 3), activation='relu', padding='same'))\\nmodel.add(layers.Conv2D(128, (3, 3), activation='relu', padding='same'))\\nmodel.add(layers.MaxPooling2D((2, 2), strides=(2, 2)))\\n    #\\nmodel.add(layers.Conv2D(256, (3, 3), activation='relu', padding='same'))\\nmodel.add(layers.Conv2D(256, (3, 3), activation='relu', padding='same'))\\nmodel.add(layers.Conv2D(256, (3, 3), activation='relu', padding='same'))\\nmodel.add(layers.MaxPooling2D((2, 2), strides=(2, 2)))\\n#  \\nmodel.add(layers.Conv2D(512, (3, 3), activation='relu', padding='same'))\\nmodel.add(layers.Conv2D(512, (3, 3), activation='relu', padding='same'))\\nmodel.add(layers.Conv2D(512, (3, 3), activation='relu', padding='same'))\\nmodel.add(layers.MaxPooling2D((2, 2), strides=(2, 2)))\\n# \\n#model.add(layers.Conv2D(512, (3, 3), activation='relu', padding='same'))\\n#model.add(layers.Conv2D(512, (3, 3), activation='relu', padding='same'))\\n#model.add(layers.Conv2D(512, (3, 3), activation='relu', padding='same'))\\n#model.add(layers.MaxPooling2D((2, 2), strides=(2, 2)))\\n# Fully connected layer\\nmodel.add(layers.Flatten())\\nmodel.add(layers.Dense(128, activation='relu'))\\nmodel.add(layers.Dense(128, activation='relu'))\\nmodel.add(layers.Dense(7, activation='softmax')) \""
      ]
     },
     "execution_count": 5,
     "metadata": {},
     "output_type": "execute_result"
    }
   ],
   "source": [
    "\"\"\"model = tf.keras.models.Sequential()\n",
    "#\n",
    "model.add(layers.Conv2D(64, (3, 3), activation='relu', padding='same', input_shape=(224, 224,3)))\n",
    "model.add(layers.Conv2D(64, (3, 3), activation='relu', padding='same'))\n",
    "model.add(layers.MaxPooling2D((2, 2), strides=(2, 2)))\n",
    "#\n",
    "model.add(layers.Conv2D(128, (3, 3), activation='relu', padding='same'))\n",
    "model.add(layers.Conv2D(128, (3, 3), activation='relu', padding='same'))\n",
    "model.add(layers.MaxPooling2D((2, 2), strides=(2, 2)))\n",
    "    #\n",
    "model.add(layers.Conv2D(256, (3, 3), activation='relu', padding='same'))\n",
    "model.add(layers.Conv2D(256, (3, 3), activation='relu', padding='same'))\n",
    "model.add(layers.Conv2D(256, (3, 3), activation='relu', padding='same'))\n",
    "model.add(layers.MaxPooling2D((2, 2), strides=(2, 2)))\n",
    "#  \n",
    "model.add(layers.Conv2D(512, (3, 3), activation='relu', padding='same'))\n",
    "model.add(layers.Conv2D(512, (3, 3), activation='relu', padding='same'))\n",
    "model.add(layers.Conv2D(512, (3, 3), activation='relu', padding='same'))\n",
    "model.add(layers.MaxPooling2D((2, 2), strides=(2, 2)))\n",
    "# \n",
    "#model.add(layers.Conv2D(512, (3, 3), activation='relu', padding='same'))\n",
    "#model.add(layers.Conv2D(512, (3, 3), activation='relu', padding='same'))\n",
    "#model.add(layers.Conv2D(512, (3, 3), activation='relu', padding='same'))\n",
    "#model.add(layers.MaxPooling2D((2, 2), strides=(2, 2)))\n",
    "# Fully connected layer\n",
    "model.add(layers.Flatten())\n",
    "model.add(layers.Dense(128, activation='relu'))\n",
    "model.add(layers.Dense(128, activation='relu'))\n",
    "model.add(layers.Dense(7, activation='softmax')) \"\"\"     "
   ]
  },
  {
   "cell_type": "code",
   "execution_count": 5,
   "id": "d01a70c4-7165-4295-83ca-bcb71697a880",
   "metadata": {},
   "outputs": [],
   "source": [
    "model = tf.keras.models.Sequential()\n",
    "model.add(layers.Conv2D(64, (3, 3), activation='relu', padding='same', input_shape=(64, 64,3)))\n",
    "model.add(layers.Conv2D(64, (3, 3), activation='relu', padding='same'))\n",
    "model.add(layers.MaxPooling2D((2, 2) , strides = (2,2)))\n",
    "model.add(layers.Flatten())\n",
    "model.add(layers.Dense(32, activation='relu'))\n",
    "model.add(layers.Dense(32, activation='relu'))\n",
    "model.add(layers.Dense(7, activation='softmax'))"
   ]
  },
  {
   "cell_type": "code",
   "execution_count": 6,
   "id": "4f75bdbb-d84f-4e05-ba75-4b4c4458d462",
   "metadata": {},
   "outputs": [
    {
     "name": "stdout",
     "output_type": "stream",
     "text": [
      "Model: \"sequential\"\n",
      "_________________________________________________________________\n",
      " Layer (type)                Output Shape              Param #   \n",
      "=================================================================\n",
      " conv2d (Conv2D)             (None, 64, 64, 64)        1792      \n",
      "                                                                 \n",
      " conv2d_1 (Conv2D)           (None, 64, 64, 64)        36928     \n",
      "                                                                 \n",
      " max_pooling2d (MaxPooling2  (None, 32, 32, 64)        0         \n",
      " D)                                                              \n",
      "                                                                 \n",
      " flatten (Flatten)           (None, 65536)             0         \n",
      "                                                                 \n",
      " dense (Dense)               (None, 32)                2097184   \n",
      "                                                                 \n",
      " dense_1 (Dense)             (None, 32)                1056      \n",
      "                                                                 \n",
      " dense_2 (Dense)             (None, 7)                 231       \n",
      "                                                                 \n",
      "=================================================================\n",
      "Total params: 2137191 (8.15 MB)\n",
      "Trainable params: 2137191 (8.15 MB)\n",
      "Non-trainable params: 0 (0.00 Byte)\n",
      "_________________________________________________________________\n"
     ]
    }
   ],
   "source": [
    "model.summary()"
   ]
  },
  {
   "cell_type": "code",
   "execution_count": 7,
   "id": "ccfd3d57-d20d-4e57-89d9-e05e356ac734",
   "metadata": {},
   "outputs": [],
   "source": [
    "early_stopping = tf.keras.callbacks.EarlyStopping(\n",
    "    monitor=\"val_loss\",\n",
    "    min_delta=0.0001,\n",
    "    patience=20,\n",
    "    verbose=1,\n",
    "    mode=\"auto\",\n",
    "    baseline=None,\n",
    "    restore_best_weights=False,\n",
    "    start_from_epoch=0,\n",
    ")"
   ]
  },
  {
   "cell_type": "code",
   "execution_count": 8,
   "id": "625a27ab",
   "metadata": {},
   "outputs": [],
   "source": [
    "model.compile(optimizer='adam',\n",
    "              loss='categorical_crossentropy',  # For multiclass classification\n",
    "              metrics=['accuracy'])\n",
    "\n"
   ]
  },
  {
   "cell_type": "code",
   "execution_count": null,
   "id": "5ef3f811",
   "metadata": {},
   "outputs": [
    {
     "name": "stdout",
     "output_type": "stream",
     "text": [
      "Epoch 1/10\n"
     ]
    },
    {
     "name": "stderr",
     "output_type": "stream",
     "text": [
      "/var/folders/v1/vsgs40891f71k785m6fzttq80000gn/T/ipykernel_5351/1600292737.py:1: UserWarning: `Model.fit_generator` is deprecated and will be removed in a future version. Please use `Model.fit`, which supports generators.\n",
      "  model.fit_generator(\n"
     ]
    },
    {
     "name": "stdout",
     "output_type": "stream",
     "text": [
      "2871/2871 [==============================] - 265s 92ms/step - loss: 1.6875 - accuracy: 0.3200 - val_loss: 1.5205 - val_accuracy: 0.4198\n",
      "Epoch 2/10\n",
      "2871/2871 [==============================] - 288s 100ms/step - loss: 1.4608 - accuracy: 0.4260 - val_loss: 1.4446 - val_accuracy: 0.4372\n",
      "Epoch 3/10\n",
      "2871/2871 [==============================] - 267s 93ms/step - loss: 1.3476 - accuracy: 0.4804 - val_loss: 1.4074 - val_accuracy: 0.4561\n",
      "Epoch 4/10\n",
      "2871/2871 [==============================] - 337s 118ms/step - loss: 1.2388 - accuracy: 0.5280 - val_loss: 1.4692 - val_accuracy: 0.4620\n",
      "Epoch 5/10\n",
      "2871/2871 [==============================] - 460s 160ms/step - loss: 1.1255 - accuracy: 0.5756 - val_loss: 1.4953 - val_accuracy: 0.4635\n",
      "Epoch 6/10\n",
      "2871/2871 [==============================] - 260s 90ms/step - loss: 1.0119 - accuracy: 0.6199 - val_loss: 1.5107 - val_accuracy: 0.4720\n",
      "Epoch 7/10\n",
      "2871/2871 [==============================] - 288s 100ms/step - loss: 0.8989 - accuracy: 0.6675 - val_loss: 1.6005 - val_accuracy: 0.4680\n",
      "Epoch 8/10\n",
      "2871/2871 [==============================] - 264s 92ms/step - loss: 0.7844 - accuracy: 0.7112 - val_loss: 1.7975 - val_accuracy: 0.4543\n",
      "Epoch 9/10\n",
      "2871/2871 [==============================] - 258s 90ms/step - loss: 0.6906 - accuracy: 0.7489 - val_loss: 1.9421 - val_accuracy: 0.4649\n",
      "Epoch 10/10\n",
      "2651/2871 [==========================>...] - ETA: 18s - loss: 0.5951 - accuracy: 0.7859"
     ]
    }
   ],
   "source": [
    "model.fit_generator(\n",
    "    x,\n",
    "    callbacks = early_stopping,\n",
    "    validation_data=x_test,\n",
    "    epochs=10)"
   ]
  },
  {
   "cell_type": "code",
   "execution_count": 9,
   "id": "5e4c67ff",
   "metadata": {},
   "outputs": [
    {
     "name": "stderr",
     "output_type": "stream",
     "text": [
      "/Users/kshitijberi/anaconda3/lib/python3.11/site-packages/keras/src/engine/training.py:3079: UserWarning: You are saving your model as an HDF5 file via `model.save()`. This file format is considered legacy. We recommend using instead the native Keras format, e.g. `model.save('my_model.keras')`.\n",
      "  saving_api.save_model(\n"
     ]
    }
   ],
   "source": [
    "model.save(\"model.h5\")"
   ]
  },
  {
   "cell_type": "code",
   "execution_count": 7,
   "id": "fc3f5200",
   "metadata": {},
   "outputs": [],
   "source": [
    "model = tf.keras.models.load_model(\"model.h5\")"
   ]
  },
  {
   "cell_type": "code",
   "execution_count": 8,
   "id": "befcf6ca",
   "metadata": {},
   "outputs": [
    {
     "name": "stdout",
     "output_type": "stream",
     "text": [
      "1/1 [==============================] - 0s 12ms/step\n",
      "Predicted class: 2\n"
     ]
    }
   ],
   "source": [
    "def preprocess_image(img_path):\n",
    "    img = image.load_img(img_path, target_size=(128, 128))\n",
    "    img_array = image.img_to_array(img)\n",
    "    img_array = np.expand_dims(img_array, axis=0)\n",
    "    img_array = img_array / 255.0  # Normalize the image\n",
    "    return img_array\n",
    "\n",
    "# Function to predict using the loaded model\n",
    "def predict(image_path):\n",
    "    # Preprocess the image\n",
    "    processed_image = preprocess_image(image_path)\n",
    "\n",
    "    # Get the prediction\n",
    "    predictions = model.predict(processed_image)\n",
    "\n",
    "    # Assuming it's a classification model, get the class with the highest probability\n",
    "    predicted_class = np.argmax(predictions[0])\n",
    "\n",
    "    return predicted_class\n",
    "\n",
    "# Path to the image you want to predict\n",
    "image_path = 'WhatsApp Image 2023-11-25 at 15.51.02.jpeg'\n",
    "\n",
    "# Make predictions\n",
    "predicted_class = predict(image_path)\n",
    "\n",
    "# Print the predicted class\n",
    "print(f'Predicted class: {predicted_class}')"
   ]
  }
 ],
 "metadata": {
  "kernelspec": {
   "display_name": "Python 3 (ipykernel)",
   "language": "python",
   "name": "python3"
  },
  "language_info": {
   "codemirror_mode": {
    "name": "ipython",
    "version": 3
   },
   "file_extension": ".py",
   "mimetype": "text/x-python",
   "name": "python",
   "nbconvert_exporter": "python",
   "pygments_lexer": "ipython3",
   "version": "3.12.4"
  }
 },
 "nbformat": 4,
 "nbformat_minor": 5
}
